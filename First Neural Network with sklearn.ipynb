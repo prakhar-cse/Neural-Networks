{
 "cells": [
  {
   "cell_type": "code",
   "execution_count": 1,
   "metadata": {},
   "outputs": [],
   "source": [
    "from sklearn import datasets\n",
    "digits = datasets.load_digits()"
   ]
  },
  {
   "cell_type": "code",
   "execution_count": 2,
   "metadata": {},
   "outputs": [
    {
     "data": {
      "text/plain": [
       "['DESCR', 'data', 'images', 'target', 'target_names']"
      ]
     },
     "execution_count": 2,
     "metadata": {},
     "output_type": "execute_result"
    }
   ],
   "source": [
    "dir(digits)"
   ]
  },
  {
   "cell_type": "code",
   "execution_count": 3,
   "metadata": {},
   "outputs": [
    {
     "data": {
      "text/plain": [
       "numpy.ndarray"
      ]
     },
     "execution_count": 3,
     "metadata": {},
     "output_type": "execute_result"
    }
   ],
   "source": [
    "type(digits.images)"
   ]
  },
  {
   "cell_type": "code",
   "execution_count": 5,
   "metadata": {},
   "outputs": [
    {
     "data": {
      "text/plain": [
       "numpy.ndarray"
      ]
     },
     "execution_count": 5,
     "metadata": {},
     "output_type": "execute_result"
    }
   ],
   "source": [
    "type(digits.target)"
   ]
  },
  {
   "cell_type": "code",
   "execution_count": 6,
   "metadata": {},
   "outputs": [
    {
     "data": {
      "text/plain": [
       "numpy.ndarray"
      ]
     },
     "execution_count": 6,
     "metadata": {},
     "output_type": "execute_result"
    }
   ],
   "source": [
    "type(digits.data)"
   ]
  },
  {
   "cell_type": "code",
   "execution_count": 7,
   "metadata": {},
   "outputs": [
    {
     "data": {
      "text/plain": [
       "str"
      ]
     },
     "execution_count": 7,
     "metadata": {},
     "output_type": "execute_result"
    }
   ],
   "source": [
    "type(digits.DESCR)"
   ]
  },
  {
   "cell_type": "code",
   "execution_count": 8,
   "metadata": {},
   "outputs": [
    {
     "data": {
      "text/plain": [
       "numpy.ndarray"
      ]
     },
     "execution_count": 8,
     "metadata": {},
     "output_type": "execute_result"
    }
   ],
   "source": [
    "type(digits.target_names)"
   ]
  },
  {
   "cell_type": "code",
   "execution_count": 9,
   "metadata": {},
   "outputs": [
    {
     "data": {
      "text/plain": [
       "(1797, 8, 8)"
      ]
     },
     "execution_count": 9,
     "metadata": {},
     "output_type": "execute_result"
    }
   ],
   "source": [
    "digits.images.shape"
   ]
  },
  {
   "cell_type": "code",
   "execution_count": 14,
   "metadata": {},
   "outputs": [
    {
     "data": {
      "text/plain": [
       "(1797,)"
      ]
     },
     "execution_count": 14,
     "metadata": {},
     "output_type": "execute_result"
    }
   ],
   "source": [
    "digits.target.shape"
   ]
  },
  {
   "cell_type": "code",
   "execution_count": 15,
   "metadata": {},
   "outputs": [
    {
     "data": {
      "text/plain": [
       "array([[ 0.,  0.,  5., 13.,  9.,  1.,  0.,  0.],\n",
       "       [ 0.,  0., 13., 15., 10., 15.,  5.,  0.],\n",
       "       [ 0.,  3., 15.,  2.,  0., 11.,  8.,  0.],\n",
       "       [ 0.,  4., 12.,  0.,  0.,  8.,  8.,  0.],\n",
       "       [ 0.,  5.,  8.,  0.,  0.,  9.,  8.,  0.],\n",
       "       [ 0.,  4., 11.,  0.,  1., 12.,  7.,  0.],\n",
       "       [ 0.,  2., 14.,  5., 10., 12.,  0.,  0.],\n",
       "       [ 0.,  0.,  6., 13., 10.,  0.,  0.,  0.]])"
      ]
     },
     "execution_count": 15,
     "metadata": {},
     "output_type": "execute_result"
    }
   ],
   "source": [
    "digits.images[0]"
   ]
  },
  {
   "cell_type": "code",
   "execution_count": 16,
   "metadata": {},
   "outputs": [
    {
     "data": {
      "text/plain": [
       "array([[ 0.,  0.,  0., 12., 13.,  5.,  0.,  0.],\n",
       "       [ 0.,  0.,  0., 11., 16.,  9.,  0.,  0.],\n",
       "       [ 0.,  0.,  3., 15., 16.,  6.,  0.,  0.],\n",
       "       [ 0.,  7., 15., 16., 16.,  2.,  0.,  0.],\n",
       "       [ 0.,  0.,  1., 16., 16.,  3.,  0.,  0.],\n",
       "       [ 0.,  0.,  1., 16., 16.,  6.,  0.,  0.],\n",
       "       [ 0.,  0.,  1., 16., 16.,  6.,  0.,  0.],\n",
       "       [ 0.,  0.,  0., 11., 16., 10.,  0.,  0.]])"
      ]
     },
     "execution_count": 16,
     "metadata": {},
     "output_type": "execute_result"
    }
   ],
   "source": [
    "digits.images[1]"
   ]
  },
  {
   "cell_type": "code",
   "execution_count": 17,
   "metadata": {},
   "outputs": [
    {
     "data": {
      "text/plain": [
       "0"
      ]
     },
     "execution_count": 17,
     "metadata": {},
     "output_type": "execute_result"
    }
   ],
   "source": [
    "digits.target[0]"
   ]
  },
  {
   "cell_type": "code",
   "execution_count": 18,
   "metadata": {},
   "outputs": [
    {
     "data": {
      "text/plain": [
       "1"
      ]
     },
     "execution_count": 18,
     "metadata": {},
     "output_type": "execute_result"
    }
   ],
   "source": [
    "digits.target[1]"
   ]
  },
  {
   "cell_type": "code",
   "execution_count": 19,
   "metadata": {},
   "outputs": [],
   "source": [
    "import matplotlib.pyplot as plt"
   ]
  },
  {
   "cell_type": "code",
   "execution_count": 28,
   "metadata": {},
   "outputs": [
    {
     "data": {
      "image/png": "[encoded data removed]",
      "text/plain": [
       "<Figure size 432x288 with 1 Axes>"
      ]
     },
     "metadata": {
      "needs_background": "light"
     },
     "output_type": "display_data"
    }
   ],
   "source": [
    "plt.imshow(digits.images[0], cmap='binary')\n",
    "plt.show()"
   ]
  },
  {
   "cell_type": "code",
   "execution_count": 32,
   "metadata": {},
   "outputs": [
    {
     "name": "stdout",
     "output_type": "stream",
     "text": [
      "[0 1 2 ... 8 9 8]\n"
     ]
    }
   ],
   "source": [
    "print(digits.target)"
   ]
  },
  {
   "cell_type": "code",
   "execution_count": null,
   "metadata": {},
   "outputs": [],
   "source": []
  },
  {
   "cell_type": "code",
   "execution_count": 33,
   "metadata": {},
   "outputs": [],
   "source": [
    "def plot_multiple(i):\n",
    "    nplots=16\n",
    "    fig=plt.figure(figsize=(15,15))\n",
    "    for j in range(nplots):\n",
    "        plt.subplot(4,4,j+1)\n",
    "        plt.imshow(digits.images[i+j], cmap='binary')\n",
    "        plt.title(digits.target[i+j])\n",
    "        plt.axis('off')\n",
    "    plt.show()    "
   ]
  },
  {
   "cell_type": "code",
   "execution_count": 37,
   "metadata": {},
   "outputs": [
    {
     "data": {
      "image/png": "[encoded data removed]",
      "text/plain": [
       "<Figure size 1080x1080 with 16 Axes>"
      ]
     },
     "metadata": {
      "needs_background": "light"
     },
     "output_type": "display_data"
    }
   ],
   "source": [
    "plot_multiple(0)"
   ]
  },
  {
   "cell_type": "code",
   "execution_count": null,
   "metadata": {},
   "outputs": [],
   "source": []
  },
  {
   "cell_type": "code",
   "execution_count": 38,
   "metadata": {},
   "outputs": [],
   "source": [
    "y = digits.target\n",
    "x = digits.images.reshape(len(digits.images),-1)\n"
   ]
  },
  {
   "cell_type": "code",
   "execution_count": 39,
   "metadata": {},
   "outputs": [
    {
     "data": {
      "text/plain": [
       "(1797,)"
      ]
     },
     "execution_count": 39,
     "metadata": {},
     "output_type": "execute_result"
    }
   ],
   "source": [
    "y.shape"
   ]
  },
  {
   "cell_type": "code",
   "execution_count": 40,
   "metadata": {},
   "outputs": [
    {
     "data": {
      "text/plain": [
       "(1797, 64)"
      ]
     },
     "execution_count": 40,
     "metadata": {},
     "output_type": "execute_result"
    }
   ],
   "source": [
    "x.shape"
   ]
  },
  {
   "cell_type": "code",
   "execution_count": 41,
   "metadata": {},
   "outputs": [
    {
     "data": {
      "text/plain": [
       "array([ 0.,  0.,  5., 13.,  9.,  1.,  0.,  0.,  0.,  0., 13., 15., 10.,\n",
       "       15.,  5.,  0.,  0.,  3., 15.,  2.,  0., 11.,  8.,  0.,  0.,  4.,\n",
       "       12.,  0.,  0.,  8.,  8.,  0.,  0.,  5.,  8.,  0.,  0.,  9.,  8.,\n",
       "        0.,  0.,  4., 11.,  0.,  1., 12.,  7.,  0.,  0.,  2., 14.,  5.,\n",
       "       10., 12.,  0.,  0.,  0.,  0.,  6., 13., 10.,  0.,  0.,  0.])"
      ]
     },
     "execution_count": 41,
     "metadata": {},
     "output_type": "execute_result"
    }
   ],
   "source": [
    "x[0]"
   ]
  },
  {
   "cell_type": "code",
   "execution_count": 42,
   "metadata": {},
   "outputs": [],
   "source": [
    "x_train = x[:1000]\n",
    "y_train = y[:1000]\n",
    "x_test = x[1000:]\n",
    "y_test = y[1000:]"
   ]
  },
  {
   "cell_type": "code",
   "execution_count": 43,
   "metadata": {},
   "outputs": [],
   "source": [
    "from sklearn.neural_network import MLPClassifier"
   ]
  },
  {
   "cell_type": "code",
   "execution_count": 112,
   "metadata": {},
   "outputs": [],
   "source": [
    "mlp = MLPClassifier(hidden_layer_sizes=(999,9),\n",
    "                   activation='logistic',\n",
    "                    alpha=1e-4,\n",
    "                    solver='sgd',\n",
    "                    tol=1e-4,\n",
    "                    random_state=1,\n",
    "                    learning_rate_init=.1,\n",
    "                    verbose=True                    \n",
    "                   )"
   ]
  },
  {
   "cell_type": "code",
   "execution_count": 113,
   "metadata": {},
   "outputs": [
    {
     "name": "stdout",
     "output_type": "stream",
     "text": [
      "Iteration 1, loss = 2.31300221\n",
      "Iteration 2, loss = 2.21701967\n",
      "Iteration 3, loss = 2.08375244\n",
      "Iteration 4, loss = 1.92064352\n",
      "Iteration 5, loss = 1.72385245\n",
      "Iteration 6, loss = 1.51437258\n",
      "Iteration 7, loss = 1.30341958\n",
      "Iteration 8, loss = 1.11266317\n",
      "Iteration 9, loss = 0.94656668\n",
      "Iteration 10, loss = 0.80461008\n",
      "Iteration 11, loss = 0.68475956\n",
      "Iteration 12, loss = 0.58858385\n",
      "Iteration 13, loss = 0.50771161\n",
      "Iteration 14, loss = 0.44296388\n",
      "Iteration 15, loss = 0.39331108\n",
      "Iteration 16, loss = 0.35316545\n",
      "Iteration 17, loss = 0.31355881\n",
      "Iteration 18, loss = 0.28439839\n",
      "Iteration 19, loss = 0.25706485\n",
      "Iteration 20, loss = 0.23834442\n",
      "Iteration 21, loss = 0.21376921\n",
      "Iteration 22, loss = 0.19734991\n",
      "Iteration 23, loss = 0.18281692\n",
      "Iteration 24, loss = 0.17154770\n",
      "Iteration 25, loss = 0.15951149\n",
      "Iteration 26, loss = 0.14775978\n",
      "Iteration 27, loss = 0.13882847\n",
      "Iteration 28, loss = 0.13099489\n",
      "Iteration 29, loss = 0.12310589\n",
      "Iteration 30, loss = 0.11638253\n",
      "Iteration 31, loss = 0.10938719\n",
      "Iteration 32, loss = 0.10381707\n",
      "Iteration 33, loss = 0.09862074\n",
      "Iteration 34, loss = 0.09469658\n",
      "Iteration 35, loss = 0.08914489\n",
      "Iteration 36, loss = 0.08538293\n",
      "Iteration 37, loss = 0.08212177\n",
      "Iteration 38, loss = 0.07878567\n",
      "Iteration 39, loss = 0.07575845\n",
      "Iteration 40, loss = 0.07274951\n",
      "Iteration 41, loss = 0.07007851\n",
      "Iteration 42, loss = 0.06759863\n",
      "Iteration 43, loss = 0.06535955\n",
      "Iteration 44, loss = 0.06368756\n",
      "Iteration 45, loss = 0.06145167\n",
      "Iteration 46, loss = 0.05949003\n",
      "Iteration 47, loss = 0.05765138\n",
      "Iteration 48, loss = 0.05600267\n",
      "Iteration 49, loss = 0.05444373\n",
      "Iteration 50, loss = 0.05324040\n",
      "Iteration 51, loss = 0.05161572\n",
      "Iteration 52, loss = 0.05040238\n",
      "Iteration 53, loss = 0.04914399\n",
      "Iteration 54, loss = 0.04798762\n",
      "Iteration 55, loss = 0.04688909\n",
      "Iteration 56, loss = 0.04581640\n",
      "Iteration 57, loss = 0.04468367\n",
      "Iteration 58, loss = 0.04361482\n",
      "Iteration 59, loss = 0.04281251\n",
      "Iteration 60, loss = 0.04166814\n",
      "Iteration 61, loss = 0.04073174\n",
      "Iteration 62, loss = 0.03944790\n",
      "Iteration 63, loss = 0.03871254\n",
      "Iteration 64, loss = 0.03787032\n",
      "Iteration 65, loss = 0.03697513\n",
      "Iteration 66, loss = 0.03590105\n",
      "Iteration 67, loss = 0.03540836\n",
      "Iteration 68, loss = 0.03483177\n",
      "Iteration 69, loss = 0.03389711\n",
      "Iteration 70, loss = 0.03324330\n",
      "Iteration 71, loss = 0.03254645\n",
      "Iteration 72, loss = 0.03188709\n",
      "Iteration 73, loss = 0.03135242\n",
      "Iteration 74, loss = 0.03077115\n",
      "Iteration 75, loss = 0.03025618\n",
      "Iteration 76, loss = 0.02966338\n",
      "Iteration 77, loss = 0.02920978\n",
      "Iteration 78, loss = 0.02874478\n",
      "Iteration 79, loss = 0.02816766\n",
      "Iteration 80, loss = 0.02769029\n",
      "Iteration 81, loss = 0.02730435\n",
      "Iteration 82, loss = 0.02679911\n",
      "Iteration 83, loss = 0.02642896\n",
      "Iteration 84, loss = 0.02603853\n",
      "Iteration 85, loss = 0.02566281\n",
      "Iteration 86, loss = 0.02521373\n",
      "Iteration 87, loss = 0.02485056\n",
      "Iteration 88, loss = 0.02460487\n",
      "Iteration 89, loss = 0.02419993\n",
      "Iteration 90, loss = 0.02385069\n",
      "Iteration 91, loss = 0.02347017\n",
      "Iteration 92, loss = 0.02317000\n",
      "Iteration 93, loss = 0.02287652\n",
      "Iteration 94, loss = 0.02259757\n",
      "Iteration 95, loss = 0.02226580\n",
      "Iteration 96, loss = 0.02200272\n",
      "Iteration 97, loss = 0.02167023\n",
      "Iteration 98, loss = 0.02142905\n",
      "Iteration 99, loss = 0.02114568\n",
      "Iteration 100, loss = 0.02088403\n",
      "Iteration 101, loss = 0.02063752\n",
      "Iteration 102, loss = 0.02041857\n",
      "Iteration 103, loss = 0.02016694\n",
      "Iteration 104, loss = 0.01993720\n",
      "Iteration 105, loss = 0.01970088\n",
      "Iteration 106, loss = 0.01946158\n",
      "Iteration 107, loss = 0.01926267\n",
      "Iteration 108, loss = 0.01901762\n",
      "Iteration 109, loss = 0.01883693\n",
      "Iteration 110, loss = 0.01863647\n",
      "Iteration 111, loss = 0.01844103\n",
      "Iteration 112, loss = 0.01821476\n",
      "Iteration 113, loss = 0.01805301\n",
      "Iteration 114, loss = 0.01786234\n",
      "Iteration 115, loss = 0.01771217\n",
      "Iteration 116, loss = 0.01748793\n",
      "Iteration 117, loss = 0.01731032\n",
      "Iteration 118, loss = 0.01716712\n",
      "Iteration 119, loss = 0.01698211\n",
      "Iteration 120, loss = 0.01680339\n",
      "Iteration 121, loss = 0.01664331\n",
      "Iteration 122, loss = 0.01647711\n",
      "Iteration 123, loss = 0.01632931\n",
      "Iteration 124, loss = 0.01618648\n",
      "Iteration 125, loss = 0.01603150\n",
      "Iteration 126, loss = 0.01587945\n",
      "Iteration 127, loss = 0.01573986\n",
      "Iteration 128, loss = 0.01559761\n",
      "Iteration 129, loss = 0.01544329\n",
      "Iteration 130, loss = 0.01532163\n",
      "Iteration 131, loss = 0.01518587\n",
      "Iteration 132, loss = 0.01504212\n",
      "Iteration 133, loss = 0.01492128\n",
      "Iteration 134, loss = 0.01478895\n",
      "Iteration 135, loss = 0.01465971\n",
      "Iteration 136, loss = 0.01454419\n",
      "Iteration 137, loss = 0.01442735\n",
      "Iteration 138, loss = 0.01430983\n",
      "Iteration 139, loss = 0.01420048\n",
      "Iteration 140, loss = 0.01406050\n",
      "Iteration 141, loss = 0.01395336\n",
      "Iteration 142, loss = 0.01384598\n",
      "Iteration 143, loss = 0.01373112\n",
      "Iteration 144, loss = 0.01361845\n",
      "Iteration 145, loss = 0.01351382\n",
      "Iteration 146, loss = 0.01341872\n",
      "Iteration 147, loss = 0.01330878\n",
      "Iteration 148, loss = 0.01320566\n",
      "Iteration 149, loss = 0.01310894\n",
      "Iteration 150, loss = 0.01301242\n",
      "Iteration 151, loss = 0.01291540\n",
      "Iteration 152, loss = 0.01282354\n",
      "Iteration 153, loss = 0.01272677\n",
      "Iteration 154, loss = 0.01263831\n",
      "Iteration 155, loss = 0.01253863\n",
      "Iteration 156, loss = 0.01244440\n",
      "Iteration 157, loss = 0.01236344\n",
      "Iteration 158, loss = 0.01227094\n",
      "Iteration 159, loss = 0.01217923\n",
      "Training loss did not improve more than tol=0.000100 for 10 consecutive epochs. Stopping.\n"
     ]
    },
    {
     "data": {
      "text/plain": [
       "MLPClassifier(activation='logistic', alpha=0.0001, batch_size='auto',\n",
       "              beta_1=0.9, beta_2=0.999, early_stopping=False, epsilon=1e-08,\n",
       "              hidden_layer_sizes=(999, 9), learning_rate='constant',\n",
       "              learning_rate_init=0.1, max_iter=200, momentum=0.9,\n",
       "              n_iter_no_change=10, nesterovs_momentum=True, power_t=0.5,\n",
       "              random_state=1, shuffle=True, solver='sgd', tol=0.0001,\n",
       "              validation_fraction=0.1, verbose=True, warm_start=False)"
      ]
     },
     "execution_count": 113,
     "metadata": {},
     "output_type": "execute_result"
    }
   ],
   "source": [
    "mlp.fit(x_train,y_train)"
   ]
  },
  {
   "cell_type": "code",
   "execution_count": 114,
   "metadata": {},
   "outputs": [],
   "source": [
    "predictions = mlp.predict(x_test)"
   ]
  },
  {
   "cell_type": "code",
   "execution_count": 115,
   "metadata": {},
   "outputs": [
    {
     "data": {
      "text/plain": [
       "array([1, 4, 0, 5, 3, 6, 9, 6, 1, 7, 5, 4, 4, 7, 2, 8, 2, 2, 5, 7, 9, 5,\n",
       "       4, 4, 9, 0, 8, 9, 8, 0, 1, 2, 3, 4, 5, 6, 7, 8, 3, 0, 1, 2, 3, 4,\n",
       "       5, 6, 7, 8, 9, 0])"
      ]
     },
     "execution_count": 115,
     "metadata": {},
     "output_type": "execute_result"
    }
   ],
   "source": [
    "predictions[:50]"
   ]
  },
  {
   "cell_type": "code",
   "execution_count": 116,
   "metadata": {},
   "outputs": [
    {
     "data": {
      "text/plain": [
       "array([1, 4, 0, 5, 3, 6, 9, 6, 1, 7, 5, 4, 4, 7, 2, 8, 2, 2, 5, 7, 9, 5,\n",
       "       4, 4, 9, 0, 8, 9, 8, 0, 1, 2, 3, 4, 5, 6, 7, 8, 9, 0, 1, 2, 3, 4,\n",
       "       5, 6, 7, 8, 9, 0])"
      ]
     },
     "execution_count": 116,
     "metadata": {},
     "output_type": "execute_result"
    }
   ],
   "source": [
    "y_test[:50]"
   ]
  },
  {
   "cell_type": "code",
   "execution_count": 117,
   "metadata": {},
   "outputs": [
    {
     "data": {
      "text/plain": [
       "0.9435382685069009"
      ]
     },
     "execution_count": 117,
     "metadata": {},
     "output_type": "execute_result"
    }
   ],
   "source": [
    "from sklearn.metrics import accuracy_score\n",
    "accuracy_score(y_test,predictions)"
   ]
  },
  {
   "cell_type": "code",
   "execution_count": null,
   "metadata": {},
   "outputs": [],
   "source": []
  },
  {
   "cell_type": "code",
   "execution_count": 118,
   "metadata": {},
   "outputs": [
    {
     "name": "stderr",
     "output_type": "stream",
     "text": [
      "Using TensorFlow backend.\n"
     ]
    },
    {
     "name": "stdout",
     "output_type": "stream",
     "text": [
      "[0 1 2 ... 8 9 8]\n",
      "[[1. 0. 0. ... 0. 0. 0.]\n",
      " [0. 1. 0. ... 0. 0. 0.]\n",
      " [0. 0. 1. ... 0. 0. 0.]\n",
      " ...\n",
      " [0. 0. 0. ... 0. 1. 0.]\n",
      " [0. 0. 0. ... 0. 0. 1.]\n",
      " [0. 0. 0. ... 0. 1. 0.]]\n"
     ]
    }
   ],
   "source": [
    "\n",
    "from keras.utils import np_utils\n",
    "y = np_utils.to_categorical(digits.target,10)\n",
    "print(digits.target)\n",
    "print(y)"
   ]
  },
  {
   "cell_type": "code",
   "execution_count": null,
   "metadata": {},
   "outputs": [],
   "source": []
  }
 ],
 "metadata": {
  "kernelspec": {
   "display_name": "Python 3",
   "language": "python",
   "name": "python3"
  },
  "language_info": {
   "codemirror_mode": {
    "name": "ipython",
    "version": 3
   },
   "file_extension": ".py",
   "mimetype": "text/x-python",
   "name": "python",
   "nbconvert_exporter": "python",
   "pygments_lexer": "ipython3",
   "version": "3.7.4"
  }
 },
 "nbformat": 4,
 "nbformat_minor": 2
}
